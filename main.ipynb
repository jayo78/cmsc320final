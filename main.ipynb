{
 "cells": [
  {
   "cell_type": "code",
   "execution_count": null,
   "metadata": {},
   "outputs": [],
   "source": [
    "import rasterio as rio\n",
    "from rasterio.warp import reproject, Resampling, calculate_default_transform\n",
    "import sys\n",
    "import re"
   ]
  },
  {
   "cell_type": "code",
   "execution_count": null,
   "metadata": {},
   "outputs": [],
   "source": [
    "def coregister(template, input, out_path):\n",
    "    with rio.open(input) as input:\n",
    "        with rio.open(template) as template:\n",
    "            out_crs = template.crs\n",
    "            out_transform, out_width, out_height = calculate_default_transform(\n",
    "                input.crs,\n",
    "                out_crs,\n",
    "                template.width,\n",
    "                template.height,\n",
    "                *template.bounds,\n",
    "            )\n",
    "        out_kwargs = input.meta.copy()\n",
    "        out_kwargs.update({\n",
    "            \"crs\": out_crs,\n",
    "            \"transform\": out_transform,\n",
    "            \"width\": out_width,\n",
    "            \"height\": out_height,\n",
    "            \"nodata\": None\n",
    "        })\n",
    "        with rio.open(out_path, \"w\", **out_kwargs) as output:\n",
    "            for i in range(1, input.count + 1): reproject(\n",
    "                    source = rio.band(input, i),\n",
    "                    destination = rio.band(output, i),\n",
    "                    src_transform = input.transform,\n",
    "                    src_crs = input.crs,\n",
    "                    dst_transform = out_transform,\n",
    "                    dst_crs = out_crs,\n",
    "                    resampling = Resampling.nearest\n",
    "                )"
   ]
  },
  {
   "cell_type": "code",
   "execution_count": null,
   "metadata": {},
   "outputs": [],
   "source": []
  }
 ],
 "metadata": {
  "kernelspec": {
   "display_name": "Python 3",
   "language": "python",
   "name": "python3"
  },
  "language_info": {
   "name": "python",
   "version": "3.10.2 (tags/v3.10.2:a58ebcc, Jan 17 2022, 14:12:15) [MSC v.1929 64 bit (AMD64)]"
  },
  "orig_nbformat": 4,
  "vscode": {
   "interpreter": {
    "hash": "26de051ba29f2982a8de78e945f0abaf191376122a1563185a90213a26c5da77"
   }
  }
 },
 "nbformat": 4,
 "nbformat_minor": 2
}
